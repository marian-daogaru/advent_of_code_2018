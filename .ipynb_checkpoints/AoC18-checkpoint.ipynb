{
 "cells": [
  {
   "cell_type": "code",
   "execution_count": 1,
   "metadata": {},
   "outputs": [],
   "source": [
    "import numpy as np\n",
    "import pendulum"
   ]
  },
  {
   "cell_type": "code",
   "execution_count": 41,
   "metadata": {},
   "outputs": [],
   "source": [
    "def read_data(filename):\n",
    "    with open(filename) as myfile:\n",
    "        return myfile.read()\n",
    "    \n",
    "def print_answers(ans1=None, ans2=None):\n",
    "    print('First part ANSWER: ', ans1)\n",
    "    print('Second part ANSWER: ', ans2)"
   ]
  },
  {
   "cell_type": "code",
   "execution_count": 3,
   "metadata": {},
   "outputs": [
    {
     "name": "stdout",
     "output_type": "stream",
     "text": [
      "First part ANSWER:  6972\n",
      "Second part ANSWER:  aixwcbzrmdvpsjfgllthdyoqe\n"
     ]
    }
   ],
   "source": [
    "# day TWO\n",
    "day2 = read_data('day2.txt').split('\\n')[:-1]\n",
    "\n",
    "# FIRST PART\n",
    "twos = 0\n",
    "threes = 0\n",
    "for data in day2:\n",
    "    unique, counts = (np.unique(np.array(list(data)), return_counts=True))\n",
    "    if np.any(counts == 2):\n",
    "        twos += 1\n",
    "    if np.any(counts == 3):\n",
    "        threes += 1\n",
    "print('First part ANSWER: ', twos * threes)\n",
    "\n",
    "\n",
    "# SECOND PART\n",
    "\n",
    "length = len(list(day2[0])) - 1\n",
    "\n",
    "day2_split = np.array([np.array(list(data)) for data in day2])\n",
    "for i in range(day2_split.shape[0]):\n",
    "    arr = np.concatenate((day2_split[:i], day2_split[i+1:]))\n",
    "    mask = np.array([np.array((day2_split[i] == data), dtype=np.bool) for data in arr])\n",
    "    mask_sum = np.sum(mask, axis=1)\n",
    "    if length in mask_sum:\n",
    "        index = np.where(length == mask_sum)\n",
    "        answer = ''.join(arr[index[0][0]][mask[index[0][0]]])\n",
    "print('Second part ANSWER: ', answer)"
   ]
  },
  {
   "cell_type": "code",
   "execution_count": 4,
   "metadata": {},
   "outputs": [
    {
     "name": "stdout",
     "output_type": "stream",
     "text": [
      "First part ANSWER:  108961\n",
      "Second part ANSWER:  #681 \n"
     ]
    }
   ],
   "source": [
    "# day THREE\n",
    "day3 = read_data('day3.txt').split('\\n')[:-1]\n",
    "fabric = np.zeros((1500, 1500))\n",
    "\n",
    "# FIRST PART \n",
    "claims = []\n",
    "for day in day3:\n",
    "    data = {}\n",
    "    day = day.split('@ ')\n",
    "    data['id'] = day[0]\n",
    "    day = day[1].split(',')\n",
    "    data['x-start'] = int(day[0])\n",
    "    day = day[1].split(': ')\n",
    "    data['y-start'] = int(day[0])\n",
    "    data['x'] = int(day[1].split('x')[0])\n",
    "    data['y'] = int(day[1].split('x')[1])\n",
    "    claims.append(data)\n",
    "    fabric[data['x-start']:data['x-start']+data['x'], data['y-start']:data['y-start']+data['y']] += 1\n",
    "print('First part ANSWER: ', np.sum(np.sum(fabric > 1, axis=1)))\n",
    "\n",
    "# SECOND PART\n",
    "for claim in claims: \n",
    "    if np.sum(\n",
    "        fabric[claim['x-start']:claim['x-start']+claim['x'], claim['y-start']:claim['y-start']+claim['y']] - 1\n",
    "    ) == 0:\n",
    "        print('Second part ANSWER: ', claim['id'])"
   ]
  },
  {
   "cell_type": "code",
   "execution_count": 5,
   "metadata": {},
   "outputs": [],
   "source": [
    "# day FIVE\n",
    "day5 = read_data('day5t.txt').split('\\n')[:-1]"
   ]
  },
  {
   "cell_type": "code",
   "execution_count": 65,
   "metadata": {},
   "outputs": [
    {
     "name": "stdout",
     "output_type": "stream",
     "text": [
      "1064 18.0 44\n",
      "17.733333333333334\n",
      "First part ANSWER:  76357\n",
      "Second part ANSWER:  41668\n"
     ]
    }
   ],
   "source": [
    "# day FOUR\n",
    "day4 = read_data('day4.txt').split('\\n')[:-1]\n",
    "\n",
    "# FIRST PART\n",
    "data_raw = []\n",
    "dates = []\n",
    "for day in day4:\n",
    "    date = pendulum.parse(day[1:17])\n",
    "    data_raw.append({\n",
    "        'date': date,\n",
    "        'msg': day.split('] ')[1]\n",
    "    })\n",
    "    dates.append(date)\n",
    "    \n",
    "data_raw = np.array(data_raw)\n",
    "dates = np.array(dates)\n",
    "data = data_raw[np.argsort(dates)]\n",
    "\n",
    "guards = {}\n",
    "current_guard = 0\n",
    "ft = 0\n",
    "wt = 0 \n",
    "for day in data:\n",
    "    if 'Guard' in day['msg']:\n",
    "        msg = day['msg'].split(' ')\n",
    "        current_guard = int(msg[1][1:])\n",
    "        if current_guard not in guards.keys():\n",
    "            guards[current_guard] = np.zeros(60)\n",
    "    elif 'falls' in day['msg']:\n",
    "        ft = day['date'].minute\n",
    "    elif 'wakes' in day['msg']:\n",
    "        wt = day['date'].minute\n",
    "        guards[current_guard][ft:wt] += 1\n",
    "        ft = 0 \n",
    "        wt = 0 \n",
    "        current_guard\n",
    "\n",
    "sleepy_schedule = np.array(list(guards.values()))\n",
    "sleepy_guard_no = list(guards.keys())[np.argmax(np.sum(sleepy_schedule, axis=1))]\n",
    "np.argmax(guards[sleepy_guard_no])\n",
    "\n",
    "\n",
    "# SECOND PART\n",
    "sleepiest_time = np.argmax(sleepy_schedule)\n",
    "sleepy_time_val = sleepy_schedule.flatten()[sleepiest_time]\n",
    "sleepy_guard_no2 = list(guards.keys())[int(sleepiest_time / 60)]\n",
    "sleepy_time_minute = sleepiest_time - int(sleepiest_time / 60) * 60\n",
    "\n",
    "print_answers(\n",
    "    np.argmax(guards[sleepy_guard_no]) * sleepy_guard_no,\n",
    "    sleepy_guard_no2 * sleepy_time_minute\n",
    ")"
   ]
  },
  {
   "cell_type": "code",
   "execution_count": null,
   "metadata": {},
   "outputs": [],
   "source": []
  },
  {
   "cell_type": "code",
   "execution_count": null,
   "metadata": {},
   "outputs": [],
   "source": []
  },
  {
   "cell_type": "code",
   "execution_count": null,
   "metadata": {},
   "outputs": [],
   "source": []
  },
  {
   "cell_type": "code",
   "execution_count": null,
   "metadata": {},
   "outputs": [],
   "source": []
  },
  {
   "cell_type": "code",
   "execution_count": null,
   "metadata": {},
   "outputs": [],
   "source": []
  }
 ],
 "metadata": {
  "kernelspec": {
   "display_name": "Python 3",
   "language": "python",
   "name": "python3"
  },
  "language_info": {
   "codemirror_mode": {
    "name": "ipython",
    "version": 3
   },
   "file_extension": ".py",
   "mimetype": "text/x-python",
   "name": "python",
   "nbconvert_exporter": "python",
   "pygments_lexer": "ipython3",
   "version": "3.5.2"
  }
 },
 "nbformat": 4,
 "nbformat_minor": 2
}
