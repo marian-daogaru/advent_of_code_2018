{
 "cells": [
  {
   "cell_type": "code",
   "execution_count": 1,
   "metadata": {},
   "outputs": [],
   "source": [
    "import numpy as np"
   ]
  },
  {
   "cell_type": "code",
   "execution_count": 4,
   "metadata": {},
   "outputs": [],
   "source": [
    "def read_data(filename):\n",
    "    with open(filename) as myfile:\n",
    "        return myfile.read()"
   ]
  },
  {
   "cell_type": "code",
   "execution_count": 81,
   "metadata": {},
   "outputs": [
    {
     "name": "stdout",
     "output_type": "stream",
     "text": [
      "First part ANSWER:  6972\n",
      "Second part ANSWER:  aixwcbzrmdvpsjfgllthdyoqe\n"
     ]
    }
   ],
   "source": [
    "# day TWO\n",
    "day2 = read_data('day2.txt').split('\\n')[:-1]\n",
    "\n",
    "# FIRST PART\n",
    "twos = 0\n",
    "threes = 0\n",
    "for data in day2:\n",
    "    unique, counts = (np.unique(np.array(list(data)), return_counts=True))\n",
    "    if np.any(counts == 2):\n",
    "        twos += 1\n",
    "    if np.any(counts == 3):\n",
    "        threes += 1\n",
    "print('First part ANSWER: ', twos * threes)\n",
    "\n",
    "\n",
    "# SECOND PART\n",
    "\n",
    "length = len(list(day2[0])) - 1\n",
    "\n",
    "day2_split = np.array([np.array(list(data)) for data in day2])\n",
    "for i in range(day2_split.shape[0]):\n",
    "    arr = np.concatenate((day2_split[:i], day2_split[i+1:]))\n",
    "    mask = np.array([np.array((day2_split[i] == data), dtype=np.bool) for data in arr])\n",
    "    mask_sum = np.sum(mask, axis=1)\n",
    "    if length in mask_sum:\n",
    "        index = np.where(length == mask_sum)\n",
    "        answer = ''.join(arr[index[0][0]][mask[index[0][0]]])\n",
    "print('Second part ANSWER: ', answer)"
   ]
  },
  {
   "cell_type": "code",
   "execution_count": null,
   "metadata": {},
   "outputs": [],
   "source": []
  }
 ],
 "metadata": {
  "kernelspec": {
   "display_name": "Python 3",
   "language": "python",
   "name": "python3"
  },
  "language_info": {
   "codemirror_mode": {
    "name": "ipython",
    "version": 3
   },
   "file_extension": ".py",
   "mimetype": "text/x-python",
   "name": "python",
   "nbconvert_exporter": "python",
   "pygments_lexer": "ipython3",
   "version": "3.5.2"
  }
 },
 "nbformat": 4,
 "nbformat_minor": 2
}
